{
 "cells": [
  {
   "cell_type": "markdown",
   "metadata": {},
   "source": [
    "\n",
    "# Manipulation de fichiers\n"
   ]
  },
  {
   "cell_type": "markdown",
   "metadata": {},
   "source": [
    "# open\n",
    "\n",
    "Le mode est donné sous la forme d'une chaîne de caractères. Voici les principaux modes :\n",
    "\n",
    "    'r' : ouverture en lecture (Read).\n",
    "\n",
    "    'w' : ouverture en écriture (Write). Le contenu du fichier est écrasé. Si le fichier n'existe pas, il est créé.\n",
    "\n",
    "    'a' : ouverture en écriture en mode ajout (Append). On écrit à la fin du fichier sans écraser l'ancien contenu du fichier. Si le fichier n'existe pas, il est créé.\n",
    "    "
   ]
  },
  {
   "cell_type": "code",
   "execution_count": 1,
   "metadata": {},
   "outputs": [
    {
     "data": {
      "text/plain": [
       "3"
      ]
     },
     "execution_count": 1,
     "metadata": {},
     "output_type": "execute_result"
    }
   ],
   "source": [
    "f = open(\"toto.txt\",mode='w')\n",
    "f.write('yep')"
   ]
  },
  {
   "cell_type": "markdown",
   "metadata": {},
   "source": [
    "# close\n",
    "\n",
    "Lorsque l'on a fini de manipuler un fichier ouvert, il est normalement necessaire de le fermer, pour liberer les ressources liées à ce fichier"
   ]
  },
  {
   "cell_type": "code",
   "execution_count": 2,
   "metadata": {},
   "outputs": [],
   "source": [
    "f.close()"
   ]
  },
  {
   "cell_type": "markdown",
   "metadata": {},
   "source": [
    "# with"
   ]
  },
  {
   "cell_type": "markdown",
   "metadata": {},
   "source": [
    "La \"vraie\" maniere de faire consiste a utiliser le mot-clé \"with\". Ceci evite d'avoir à fermer explicitement le fichier avec close"
   ]
  },
  {
   "cell_type": "code",
   "execution_count": 3,
   "metadata": {},
   "outputs": [
    {
     "name": "stdout",
     "output_type": "stream",
     "text": [
      "False\n",
      "True\n"
     ]
    }
   ],
   "source": [
    "with open(\"toto.txt\",'r') as f:  # le fichier existe à l'avance sinon error\n",
    "    print(f.closed) ## closed (et pas 'close') est un marqueur booleen indiquant si le fichier est ouvert ou fermé\n",
    "print(f.closed)\n"
   ]
  },
  {
   "cell_type": "markdown",
   "metadata": {},
   "source": [
    "# read"
   ]
  },
  {
   "cell_type": "code",
   "execution_count": 4,
   "metadata": {},
   "outputs": [
    {
     "name": "stdout",
     "output_type": "stream",
     "text": [
      "val :  yep\n"
     ]
    }
   ],
   "source": [
    "### je veux voir le contenu de mon fichier\n",
    "with open(\"toto.txt\",'r') as f:\n",
    "    val = f.read() \n",
    "print('val : ', val)"
   ]
  },
  {
   "cell_type": "markdown",
   "metadata": {},
   "source": [
    "tout le contenu du fichier est lu d'un coup"
   ]
  },
  {
   "cell_type": "markdown",
   "metadata": {},
   "source": [
    "# readlines"
   ]
  },
  {
   "cell_type": "code",
   "execution_count": 5,
   "metadata": {},
   "outputs": [],
   "source": [
    "# let write a multi line\n",
    "txt = \"\"\"yep\n",
    "yop\n",
    "yip\n",
    "\"\"\"\n",
    "with open(\"toto2.txt\",'w') as f:\n",
    "    f.write(txt)"
   ]
  },
  {
   "cell_type": "code",
   "execution_count": 6,
   "metadata": {},
   "outputs": [
    {
     "name": "stdout",
     "output_type": "stream",
     "text": [
      "['yep\\n', 'yop\\n', 'yip\\n']\n"
     ]
    }
   ],
   "source": [
    "### je veux voir le contenu de mon fichier ligne par ligne\n",
    "f = open(\"toto2.txt\",'r')\n",
    "lines = f.readlines()\n",
    "f.close()\n",
    "print(lines)"
   ]
  },
  {
   "cell_type": "markdown",
   "metadata": {},
   "source": [
    "# Lecture string/bytes et importance de l'encoding (UTF-8)\n"
   ]
  },
  {
   "cell_type": "code",
   "execution_count": 12,
   "metadata": {},
   "outputs": [
    {
     "name": "stdout",
     "output_type": "stream",
     "text": [
      "b\"Ceci est une chaine d'octets\"\n",
      "<class 'bytes'>\n",
      "115\n",
      "Ceci est une chaine de caractères particuliers 你好 صباح الخير\n",
      "<class 'str'>\n",
      "ي\n"
     ]
    }
   ],
   "source": [
    "chaine1 = b\"Ceci est une chaine d'octets\"\n",
    "\n",
    "print(chaine1)\n",
    "print(type(chaine1))\n",
    "print(chaine1[-1])\n",
    "\n",
    "chaine2 = \"Ceci est une chaine de caractères particuliers 你好 صباح الخير\"\n",
    "\n",
    "print(chaine2)\n",
    "print(type(chaine2))\n",
    "print(chaine2[-2])\n"
   ]
  },
  {
   "cell_type": "code",
   "execution_count": 13,
   "metadata": {},
   "outputs": [],
   "source": [
    "# lets put this 2 object in the same file\n",
    "with open(\"chaine.txt\",'wb') as f:\n",
    "    f.write(chaine1)\n",
    "\n",
    "with open(\"chaine.txt\",'a') as f:\n",
    "    f.write('\\n')\n",
    "    f.write(chaine2)"
   ]
  },
  {
   "cell_type": "code",
   "execution_count": 14,
   "metadata": {},
   "outputs": [
    {
     "name": "stdout",
     "output_type": "stream",
     "text": [
      "Ceci est une chaine d'octets\n",
      "Ceci est une chaine de caractères particuliers 你好 صباح الخير <class 'str'> 89\n"
     ]
    }
   ],
   "source": [
    "with open('chaine.txt', mode= 'r', encoding='utf8') as f:\n",
    "    txt = f.read()\n",
    "print(txt, type(txt), len(txt))"
   ]
  },
  {
   "cell_type": "code",
   "execution_count": 15,
   "metadata": {},
   "outputs": [
    {
     "name": "stdout",
     "output_type": "stream",
     "text": [
      "b\"Ceci est une chaine d'octets\\nCeci est une chaine de caract\\xc3\\xa8res particuliers \\xe4\\xbd\\xa0\\xe5\\xa5\\xbd \\xd8\\xb5\\xd8\\xa8\\xd8\\xa7\\xd8\\xad \\xd8\\xa7\\xd9\\x84\\xd8\\xae\\xd9\\x8a\\xd8\\xb1\" <class 'bytes'> 103\n"
     ]
    }
   ],
   "source": [
    "with open('chaine.txt', mode='rb') as f:\n",
    "    b = f.read()\n",
    "print(b, type(b), len(b))"
   ]
  },
  {
   "cell_type": "code",
   "execution_count": 16,
   "metadata": {},
   "outputs": [
    {
     "name": "stdout",
     "output_type": "stream",
     "text": [
      "Ceci est une chaine d'octets\n",
      "Ceci est une chaine de caractères particuliers 你好 صباح الخير <class 'str'>\n"
     ]
    }
   ],
   "source": [
    "txt2 = b.decode('utf8')\n",
    "print(txt2, type(txt2))"
   ]
  },
  {
   "cell_type": "markdown",
   "metadata": {},
   "source": [
    "# Sauvegarde et lecture avec numpy : format texte\n"
   ]
  },
  {
   "cell_type": "markdown",
   "metadata": {},
   "source": [
    "## loadtxt "
   ]
  },
  {
   "cell_type": "code",
   "execution_count": 18,
   "metadata": {},
   "outputs": [
    {
     "name": "stdout",
     "output_type": "stream",
     "text": [
      "[[-12.  56.   4.]\n",
      " [  6.  50.  12.]\n",
      " [  8.  36.   2.]\n",
      " [ 24.  24. -18.]\n",
      " [-12.  22.  28.]\n",
      " [-12.  22.  26.]\n",
      " [-32.  20. -18.]\n",
      " [-28.  16.  32.]\n",
      " [-48.  14.   8.]\n",
      " [-10.  10.  44.]\n",
      " [-34.   8.  38.]\n",
      " [  4.   6.  50.]\n",
      " [  4.   6.  50.]\n",
      " [ 10.   4.  74.]\n",
      " [ -2.   4.  44.]\n",
      " [ 24.   4. -10.]\n",
      " [ 24.   4. -16.]\n",
      " [ 40.   2.  62.]\n",
      " [-54.   2.  38.]\n",
      " [-26.  -4.  70.]]\n"
     ]
    }
   ],
   "source": [
    "import numpy as np\n",
    "\n",
    "data = np.loadtxt('./data/Coords.txt') \n",
    "print (data)\n"
   ]
  },
  {
   "cell_type": "markdown",
   "metadata": {},
   "source": [
    "## savetxt"
   ]
  },
  {
   "cell_type": "code",
   "execution_count": 19,
   "metadata": {},
   "outputs": [
    {
     "name": "stdout",
     "output_type": "stream",
     "text": [
      "[[0. 0. 0. ... 0. 0. 0.]\n",
      " [0. 0. 0. ... 0. 0. 0.]\n",
      " [0. 0. 0. ... 0. 0. 0.]\n",
      " ...\n",
      " [0. 0. 0. ... 0. 0. 0.]\n",
      " [0. 0. 0. ... 0. 0. 0.]\n",
      " [0. 0. 0. ... 0. 0. 0.]]\n"
     ]
    }
   ],
   "source": [
    "data = np.zeros(shape = (1000,1000), dtype = \"float32\")\n",
    "print(data)"
   ]
  },
  {
   "cell_type": "code",
   "execution_count": 20,
   "metadata": {
    "tags": []
   },
   "outputs": [],
   "source": [
    "np.savetxt(\"data.txt\", data, fmt = \"%f\")"
   ]
  },
  {
   "cell_type": "markdown",
   "metadata": {},
   "source": [
    "# Sauvegarde et lecture avec numpy : format .npy, load et save"
   ]
  },
  {
   "cell_type": "code",
   "execution_count": 23,
   "metadata": {},
   "outputs": [],
   "source": [
    "np.save(\"data.npy\", data)"
   ]
  },
  {
   "cell_type": "code",
   "execution_count": 24,
   "metadata": {},
   "outputs": [
    {
     "data": {
      "text/plain": [
       "array([[0., 0., 0., ..., 0., 0., 0.],\n",
       "       [0., 0., 0., ..., 0., 0., 0.],\n",
       "       [0., 0., 0., ..., 0., 0., 0.],\n",
       "       ...,\n",
       "       [0., 0., 0., ..., 0., 0., 0.],\n",
       "       [0., 0., 0., ..., 0., 0., 0.],\n",
       "       [0., 0., 0., ..., 0., 0., 0.]], dtype=float32)"
      ]
     },
     "execution_count": 24,
     "metadata": {},
     "output_type": "execute_result"
    }
   ],
   "source": [
    "data2 = np.load(\"data.npy\")\n",
    "data2"
   ]
  },
  {
   "cell_type": "markdown",
   "metadata": {},
   "source": [
    "# Concept d'Arborescence"
   ]
  },
  {
   "cell_type": "markdown",
   "metadata": {},
   "source": [
    "![Image](./img/mac_tree.png)     ![Image](./img/win_tree.jpg)    ![Image](./img/linux-tree.png)"
   ]
  },
  {
   "cell_type": "markdown",
   "metadata": {},
   "source": [
    "Racine :\n",
    "\n",
    "    mac et linux : /\n",
    "    \n",
    "    windows : C:\\\n",
    "            \n"
   ]
  },
  {
   "cell_type": "markdown",
   "metadata": {},
   "source": [
    "Chemin absolu :\n",
    "    \n",
    "    linux : /home/alex/projets/formation_python/\n",
    "    \n",
    "    windows : C:\\\\Users\\\\alex\\\\projets\\\\formation_python\\\\   (double\\ car caractère d'échapement)\n",
    "    \n",
    "    mac : /Disque dur/Users/alex/projets/formation_python/"
   ]
  },
  {
   "cell_type": "markdown",
   "metadata": {},
   "source": [
    "Chemin relatif :\n",
    "\n",
    "    ./          là ou je suis actuellement\n",
    "    ../       je remonte d'un dossier par rapport à là ou je suis\n",
    "    \n",
    "    idem windows mais avec \\\n",
    "    \n",
    "    \n",
    "    exemple : np.loadtxt('./data/Coords.txt') \n",
    "    \n",
    "    "
   ]
  },
  {
   "cell_type": "markdown",
   "metadata": {},
   "source": [
    "## Le module os (Operating System)\n",
    "\n",
    "\n",
    "\n",
    "### 1 - Prendre de l'information sur le sysème de fichiers\n",
    "\n",
    "+ import os\n",
    "\n",
    "\n",
    "+ os.uname() : infos système\n",
    "\n",
    "\n",
    "+ os.getcwd() : pour obtenir le répertoire en cours\n",
    "\n",
    "\n",
    "+ os.path.abspath(path) : retourne une version absolue du chemin path\n",
    "\n",
    "\n",
    "+ os.path.relpath(path[, start]) : retourne une version relative du chemin path. Par défaut, par rapport au working dir, sinon : spécifier un argument start qui sera le répertoire de base\n",
    "\n",
    "\n",
    "### 2 - Faire des actions sur le système de fichiers\n",
    "\n",
    "+ os.chdir(foldername)  : va dans le répertoire spécifié\n",
    "\n",
    "\n",
    "+ os.mkdir(’mydir’) : crée le répertoire mydir\n",
    "\n",
    "\n",
    "+ os.rename(oldname, newname) : renomme oldname en newname\n",
    "\n",
    "\n",
    "+ os.remove(filename) : efface le fichier filename\n",
    "\n",
    "\n",
    "### 3 - Utilitaires\n",
    "\n",
    "+ os.path.join(morceau1, morceau2) : colle deux morceaux de chemin ensemble  en utilisant les caractères adaptés au système\n",
    "\n",
    "\n",
    "+ os.path.expanduser(\"~\") : retourne le chemin vers le répertoire \"Home\" de l'utilisateur sur la machine\n",
    "\n",
    "\n",
    "+ os.path.split(racine/nomfichier_ou_rep) : permet de séparer la dernière branche de la racine, résultat sous forme de tuple\n",
    "    *ex : (filepath, filename) = os.path.split(\"/Users/admin/Desktop\") \n",
    "    *filename: \"Desktop\"\n",
    "\n",
    "\n",
    "+ os.path.splitext(nomfichier.extension) : sépare le nom de l'extension. Résultat sous forme de tuple\n",
    "\n",
    "\n",
    "+ os.listdir(path) :  prend un nom de chemin et retourne une liste du contenu du répertoire.\n",
    "\n",
    "\n",
    "+ os.path.isfile : pour séparer les fichiers des répertoires. (os.path.isdir existe aussi). isfile prend un nom de chemin et :\n",
    "     *retourne 1 / True si le chemin représente un fichier\n",
    "     *0 / False dans le cas contraire. \n",
    "\n",
    "\n",
    "+ os.walk(top, topdown=True) : à parir de top (repertoire racine), parcourt l'arborescence en descendant si topdown=True, en montant sinon, et renvoie un tuple : (dirpath, dirnames, filenames) qui contient tous les répertoires dirnames rencontrés avec les fichiers filenames qui s'y trouvent\n",
    "\n",
    ">for dossier, sous_dossiers, fichiers in os.walk('/tmp/test'):\n",
    "\n",
    ">        for fichier in fichiers:\n",
    "\n",
    ">            print(os.path.join(dossier, fichier))"
   ]
  },
  {
   "cell_type": "code",
   "execution_count": 25,
   "metadata": {},
   "outputs": [
    {
     "data": {
      "text/plain": [
       "['exercice_eeg.ipynb',\n",
       " 'toto2.txt',\n",
       " 'data.npy',\n",
       " 'data.txt',\n",
       " 'numpy_indexing.ipynb',\n",
       " 'toto.txt',\n",
       " 'loop_index_slice.ipynb',\n",
       " 'img',\n",
       " 'mafigure.svg',\n",
       " 'chaine.txt',\n",
       " 'data',\n",
       " 'file_manipulation.ipynb',\n",
       " 'numpy_base.ipynb',\n",
       " 'matplotlib_base.ipynb',\n",
       " 'Base_language.ipynb',\n",
       " 'numpy_advanced.ipynb',\n",
       " 'eeg_MNE.ipynb']"
      ]
     },
     "execution_count": 25,
     "metadata": {},
     "output_type": "execute_result"
    }
   ],
   "source": [
    "import os\n",
    "os.listdir('./')"
   ]
  },
  {
   "cell_type": "markdown",
   "metadata": {},
   "source": [
    "## Le module pathlib = nouvelle méthode"
   ]
  },
  {
   "cell_type": "code",
   "execution_count": 26,
   "metadata": {},
   "outputs": [
    {
     "data": {
      "text/plain": [
       "PosixPath('/home/samuel')"
      ]
     },
     "execution_count": 26,
     "metadata": {},
     "output_type": "execute_result"
    }
   ],
   "source": [
    "from pathlib import Path\n",
    "\n",
    "home = Path.home()\n",
    "home\n"
   ]
  },
  {
   "cell_type": "code",
   "execution_count": 27,
   "metadata": {},
   "outputs": [
    {
     "data": {
      "text/plain": [
       "PosixPath('/home/samuel/Documents/Formation_2024_CorneyllieGarcia_Python_CalculScientifique/notebooks')"
      ]
     },
     "execution_count": 27,
     "metadata": {},
     "output_type": "execute_result"
    }
   ],
   "source": [
    "ici = Path('.').absolute()\n",
    "ici"
   ]
  },
  {
   "cell_type": "code",
   "execution_count": 28,
   "metadata": {},
   "outputs": [
    {
     "data": {
      "text/plain": [
       "PosixPath('/home/samuel/Documents')"
      ]
     },
     "execution_count": 28,
     "metadata": {},
     "output_type": "execute_result"
    }
   ],
   "source": [
    "doc = home / 'Documents'\n",
    "doc"
   ]
  },
  {
   "cell_type": "code",
   "execution_count": 29,
   "metadata": {},
   "outputs": [
    {
     "name": "stdout",
     "output_type": "stream",
     "text": [
      "/snap\n",
      "/home\n",
      "/lib64\n",
      "/var\n",
      "/proc\n",
      "/dev\n",
      "/boot\n",
      "/etc\n",
      "/lib\n",
      "/root\n",
      "/usr\n",
      "/bin\n",
      "/media\n",
      "/lib32\n",
      "/srv\n",
      "/opt\n",
      "/lost+found\n",
      "/tmp\n",
      "/libx32\n",
      "/sbin\n",
      "/mnt\n",
      "/sys\n",
      "/run\n"
     ]
    }
   ],
   "source": [
    "for item in Path('/').iterdir():\n",
    "    print(item)"
   ]
  },
  {
   "cell_type": "code",
   "execution_count": 30,
   "metadata": {},
   "outputs": [
    {
     "name": "stdout",
     "output_type": "stream",
     "text": [
      "False\n",
      "Figure_1\n",
      ".png\n",
      "/home/samuel\n",
      "/home/samuel\n",
      "/home\n",
      "/\n"
     ]
    }
   ],
   "source": [
    "file_path = Path('/home/samuel/Figure_1.png')\n",
    "\n",
    "print(file_path.is_file())\n",
    "\n",
    "print(file_path.stem)\n",
    "print(file_path.suffix)\n",
    "print(file_path.parent)\n",
    "print(file_path.parents[0])\n",
    "print(file_path.parents[1])\n",
    "print(file_path.parents[2])\n",
    "\n"
   ]
  },
  {
   "cell_type": "code",
   "execution_count": 31,
   "metadata": {},
   "outputs": [
    {
     "name": "stdout",
     "output_type": "stream",
     "text": [
      "/home/samuel/Documents/Formation_2024_CorneyllieGarcia_Python_CalculScientifique/notebooks/exercice_eeg.ipynb\n",
      "/home/samuel/Documents/Formation_2024_CorneyllieGarcia_Python_CalculScientifique/notebooks/numpy_indexing.ipynb\n",
      "/home/samuel/Documents/Formation_2024_CorneyllieGarcia_Python_CalculScientifique/notebooks/loop_index_slice.ipynb\n",
      "/home/samuel/Documents/Formation_2024_CorneyllieGarcia_Python_CalculScientifique/notebooks/file_manipulation.ipynb\n",
      "/home/samuel/Documents/Formation_2024_CorneyllieGarcia_Python_CalculScientifique/notebooks/numpy_base.ipynb\n",
      "/home/samuel/Documents/Formation_2024_CorneyllieGarcia_Python_CalculScientifique/notebooks/matplotlib_base.ipynb\n",
      "/home/samuel/Documents/Formation_2024_CorneyllieGarcia_Python_CalculScientifique/notebooks/Base_language.ipynb\n",
      "/home/samuel/Documents/Formation_2024_CorneyllieGarcia_Python_CalculScientifique/notebooks/numpy_advanced.ipynb\n",
      "/home/samuel/Documents/Formation_2024_CorneyllieGarcia_Python_CalculScientifique/notebooks/eeg_MNE.ipynb\n"
     ]
    }
   ],
   "source": [
    "ici = Path('.').absolute()\n",
    "\n",
    "for file in ici.glob('*.ipynb'):\n",
    "    print(file)"
   ]
  },
  {
   "cell_type": "code",
   "execution_count": 33,
   "metadata": {},
   "outputs": [
    {
     "name": "stdout",
     "output_type": "stream",
     "text": [
      "/home/samuel/Documents/Formation_2023_GarciaCorneyllie_Python_CalculScientifique/notebooks/exercice_eeg.ipynb\n",
      "/home/samuel/Documents/Formation_2023_GarciaCorneyllie_Python_CalculScientifique/notebooks/exo_final.ipynb\n",
      "/home/samuel/Documents/Formation_2023_GarciaCorneyllie_Python_CalculScientifique/notebooks/pandas_exo.ipynb\n",
      "/home/samuel/Documents/Formation_2023_GarciaCorneyllie_Python_CalculScientifique/notebooks/numpy_indexing.ipynb\n",
      "/home/samuel/Documents/Formation_2023_GarciaCorneyllie_Python_CalculScientifique/notebooks/loop_index_slice.ipynb\n",
      "/home/samuel/Documents/Formation_2023_GarciaCorneyllie_Python_CalculScientifique/notebooks/xarray.ipynb\n",
      "/home/samuel/Documents/Formation_2023_GarciaCorneyllie_Python_CalculScientifique/notebooks/pandas_base.ipynb\n",
      "/home/samuel/Documents/Formation_2023_GarciaCorneyllie_Python_CalculScientifique/notebooks/seaborn.ipynb\n",
      "/home/samuel/Documents/Formation_2023_GarciaCorneyllie_Python_CalculScientifique/notebooks/python-neo.ipynb\n",
      "/home/samuel/Documents/Formation_2023_GarciaCorneyllie_Python_CalculScientifique/notebooks/sklearn.ipynb\n",
      "/home/samuel/Documents/Formation_2023_GarciaCorneyllie_Python_CalculScientifique/notebooks/ephyviewer.ipynb\n",
      "/home/samuel/Documents/Formation_2023_GarciaCorneyllie_Python_CalculScientifique/notebooks/file_manipulation.ipynb\n",
      "/home/samuel/Documents/Formation_2023_GarciaCorneyllie_Python_CalculScientifique/notebooks/scipy_overview.ipynb\n",
      "/home/samuel/Documents/Formation_2023_GarciaCorneyllie_Python_CalculScientifique/notebooks/formula_statsmodels.ipynb\n",
      "/home/samuel/Documents/Formation_2023_GarciaCorneyllie_Python_CalculScientifique/notebooks/numpy_base.ipynb\n",
      "/home/samuel/Documents/Formation_2023_GarciaCorneyllie_Python_CalculScientifique/notebooks/matplotlib_base.ipynb\n",
      "/home/samuel/Documents/Formation_2023_GarciaCorneyllie_Python_CalculScientifique/notebooks/Base_language.ipynb\n",
      "/home/samuel/Documents/Formation_2023_GarciaCorneyllie_Python_CalculScientifique/notebooks/numpy_advanced.ipynb\n",
      "/home/samuel/Documents/Formation_2024_CorneyllieGarcia_Python_CalculScientifique/notebooks/exercice_eeg.ipynb\n",
      "/home/samuel/Documents/Formation_2024_CorneyllieGarcia_Python_CalculScientifique/notebooks/numpy_indexing.ipynb\n",
      "/home/samuel/Documents/Formation_2024_CorneyllieGarcia_Python_CalculScientifique/notebooks/loop_index_slice.ipynb\n",
      "/home/samuel/Documents/Formation_2024_CorneyllieGarcia_Python_CalculScientifique/notebooks/file_manipulation.ipynb\n",
      "/home/samuel/Documents/Formation_2024_CorneyllieGarcia_Python_CalculScientifique/notebooks/numpy_base.ipynb\n",
      "/home/samuel/Documents/Formation_2024_CorneyllieGarcia_Python_CalculScientifique/notebooks/matplotlib_base.ipynb\n",
      "/home/samuel/Documents/Formation_2024_CorneyllieGarcia_Python_CalculScientifique/notebooks/Base_language.ipynb\n",
      "/home/samuel/Documents/Formation_2024_CorneyllieGarcia_Python_CalculScientifique/notebooks/numpy_advanced.ipynb\n",
      "/home/samuel/Documents/Formation_2024_CorneyllieGarcia_Python_CalculScientifique/notebooks/eeg_MNE.ipynb\n",
      "/home/samuel/Documents/SpikeInterface/spikeinterface/waveform_extraction_share.ipynb\n",
      "/home/samuel/Documents/SpikeInterface/spikeinterface/dev_kilosort4.ipynb\n",
      "/home/samuel/Documents/SpikeInterface/spikeinterface/dev_move_templates3.ipynb\n",
      "/home/samuel/Documents/SpikeInterface/spikeinterface/dev_move_templates7.ipynb\n",
      "/home/samuel/Documents/SpikeInterface/spikeinterface/demo_generate_drift.ipynb\n",
      "/home/samuel/Documents/SpikeInterface/spikeinterface/dev_move_templates4.ipynb\n",
      "/home/samuel/Documents/SpikeInterface/spikeinterface/dev_move_templates5.ipynb\n",
      "/home/samuel/Documents/SpikeInterface/spikeinterface/dev_move_templates6.ipynb\n",
      "/home/samuel/Documents/SpikeInterface/spikeinterface/dev_move_templates.ipynb\n",
      "/home/samuel/Documents/SpikeInterface/spikeinterface/dev_move_templates2.ipynb\n",
      "/home/samuel/Documents/SpikeInterface/spikeinterface/.ipynb_checkpoints/dev_move_templates7-checkpoint.ipynb\n",
      "/home/samuel/Documents/SpikeInterface/spikeinterface/.ipynb_checkpoints/dev_move_templates6-checkpoint.ipynb\n",
      "/home/samuel/Documents/SpikeInterface/spikeinterface/.ipynb_checkpoints/demo_generate_drift-checkpoint.ipynb\n",
      "/home/samuel/Documents/SpikeInterface/MEArec/notebooks/generate_recordings_with_varying_bursting_modulation.ipynb\n",
      "/home/samuel/Documents/SpikeInterface/MEArec/notebooks/generate_templates_and_recordings_on_multiple_probes.ipynb\n",
      "/home/samuel/Documents/SpikeInterface/MEArec/notebooks/generate_recordings_with_allen_models.ipynb\n",
      "/home/samuel/Documents/SpikeInterface/MEArec/notebooks/generate_neuropixels_templates_and_recordings.ipynb\n",
      "/home/samuel/Documents/SpikeInterface/MEArec/notebooks/generate_recordings_with_user_defined_spiketrains.ipynb\n",
      "/home/samuel/Documents/SpikeInterface/MEArec/notebooks/generate_templates_and_recordings_drift.ipynb\n",
      "/home/samuel/Documents/SpikeInterface/MEArec/notebooks/generate_templates_and_recordings.ipynb\n",
      "/home/samuel/Documents/SpikeInterface/MEArec/notebooks/generate_varying_noise_levels.ipynb\n",
      "/home/samuel/Documents/SpikeInterface/MEArec/notebooks/generate_templates_and_recordings_int16.ipynb\n",
      "/home/samuel/Documents/SpikeInterface/draft_sorting_components/initial_draft/dev_benchmark_motion_estimation.ipynb\n",
      "/home/samuel/Documents/SpikeInterface/draft_sorting_components/initial_draft/clustering_benchmark.ipynb\n",
      "/home/samuel/Documents/SpikeInterface/draft_sorting_components/initial_draft/dev_benchmark_motion_interpolation.ipynb\n",
      "/home/samuel/Documents/SpikeInterface/draft_sorting_components/initial_draft/unit_localization_benchmark.ipynb\n",
      "/home/samuel/Documents/SpikeInterface/draft_sorting_components/initial_draft/peak_localization_benchmark.ipynb\n",
      "/home/samuel/Documents/SpikeInterface/draft_sorting_components/initial_draft/matching_benchmark.ipynb\n",
      "/home/samuel/Documents/SpikeInterface/school_spike_sorting_WIRED_2024/notebook_demo/demo_simulated_dataset.ipynb\n",
      "/home/samuel/Documents/SpikeInterface/school_spike_sorting_WIRED_2024/notebook_demo/adtech_sub-002.ipynb\n",
      "/home/samuel/Documents/SpikeInterface/school_spike_sorting_WIRED_2024/notebook_demo/dixi_sub-003.ipynb\n",
      "/home/samuel/Documents/SpikeInterface/school_spike_sorting_WIRED_2024/notebook_demo/dixi_sub-004.ipynb\n",
      "/home/samuel/Documents/SpikeInterface/school_spike_sorting_WIRED_2024/notebook_demo/noise_measurement.ipynb\n",
      "/home/samuel/Documents/SpikeInterface/school_spike_sorting_WIRED_2024/notebook_demo/adtech_sub-001.ipynb\n",
      "/home/samuel/Documents/SpikeInterface/school_spike_sorting_WIRED_2024/notebook_demo/.ipynb_checkpoints/noise_measurement-checkpoint.ipynb\n",
      "/home/samuel/Documents/SpikeInterface/school_spike_sorting_WIRED_2024/notebook_demo/.ipynb_checkpoints/demo_simulated_dataset-checkpoint.ipynb\n",
      "/home/samuel/Documents/SpikeInterface/school_spike_sorting_WIRED_2024/notebook_demo/.ipynb_checkpoints/adtech_sub-001-checkpoint.ipynb\n",
      "/home/samuel/Documents/SpikeInterface/school_spike_sorting_WIRED_2024/notebook_demo/.ipynb_checkpoints/dixi_sub-004_OLD_Pierre-checkpoint.ipynb\n",
      "/home/samuel/Documents/SpikeInterface/school_spike_sorting_WIRED_2024/notebook_demo/.ipynb_checkpoints/dixi_sub-003-checkpoint.ipynb\n",
      "/home/samuel/Documents/SpikeInterface/school_spike_sorting_WIRED_2024/notebook_demo/.ipynb_checkpoints/adtech_sub-002_OLD_Pierre-checkpoint.ipynb\n",
      "/home/samuel/Documents/SpikeInterface/school_spike_sorting_WIRED_2024/notebook_demo/.ipynb_checkpoints/dixi_sub-004-checkpoint.ipynb\n",
      "/home/samuel/Documents/SpikeInterface/school_spike_sorting_WIRED_2024/notebook_demo/.ipynb_checkpoints/dixi_sub-003_OLD_Pierre-checkpoint.ipynb\n",
      "/home/samuel/Documents/SpikeInterface/school_spike_sorting_WIRED_2024/notebook_demo/.ipynb_checkpoints/adtech_sub-002-checkpoint.ipynb\n",
      "/home/samuel/Documents/SpikeInterface/Kilosort4/docs/tutorials/make_probe.ipynb\n",
      "/home/samuel/Documents/SpikeInterface/Kilosort4/docs/tutorials/load_data.ipynb\n",
      "/home/samuel/Documents/SpikeInterface/Kilosort4/docs/tutorials/basic_example.ipynb\n",
      "/home/samuel/Documents/SpikeInterface/tridesclous2_dev/notebooks/study_sorter_battle.ipynb\n",
      "/home/samuel/Documents/SpikeInterface/tridesclous2_dev/notebooks/.ipynb_checkpoints/study_sorter_battle-checkpoint.ipynb\n"
     ]
    }
   ],
   "source": [
    "# recursif\n",
    "for file in Path('/home/samuel/Documents').glob('**/*.ipynb'):\n",
    "    print(file)\n"
   ]
  },
  {
   "cell_type": "markdown",
   "metadata": {},
   "source": [
    "## exercice 1\n",
    "\n",
    "Faire un script pour explorer le dossier 'data/data_folder'\n",
    "\n",
    "Lire les datas dans une structure hierachique adaptée (dict/list/array)\n",
    "\n"
   ]
  },
  {
   "cell_type": "markdown",
   "metadata": {},
   "source": [
    "## solution 1"
   ]
  },
  {
   "cell_type": "code",
   "execution_count": 34,
   "metadata": {},
   "outputs": [
    {
     "data": {
      "text/plain": [
       "{'ST01': {3: array([[ 1.23919226, -0.12958547,  0.78818082],\n",
       "         [-0.60837368,  0.07957184,  0.23778785],\n",
       "         [ 0.71276165, -0.69707259,  0.87300822],\n",
       "         [-0.31410541,  0.79037717, -3.23867177]]),\n",
       "  1: array([[ 0.98709994, -1.56206329,  0.67991403],\n",
       "         [ 0.15045004, -0.04870027,  0.92348229],\n",
       "         [-0.06379522,  0.31838826, -0.97254135],\n",
       "         [-0.4318255 ,  0.56316911,  0.51542128]]),\n",
       "  5: array([[ 0.90662266,  2.23730039,  0.35461322],\n",
       "         [ 0.09435512,  0.97716562, -0.94782627],\n",
       "         [-0.23006766, -0.43436618, -1.27472078],\n",
       "         [-0.22752045,  0.04854418, -0.15018364]]),\n",
       "  2: array([[-1.37446607,  0.77471333, -3.32607595],\n",
       "         [ 2.13101326,  0.20674242, -1.10742134],\n",
       "         [-1.43194356,  2.15985496, -1.37384019],\n",
       "         [ 0.85982173, -0.06844014, -0.1607968 ]]),\n",
       "  4: array([[-0.92839649,  0.64171505, -0.71272713],\n",
       "         [-0.24419653,  1.79090322,  0.50802894],\n",
       "         [-0.05288209, -0.36533635,  0.10701192],\n",
       "         [-0.26140426, -0.00484426,  0.15658016]])},\n",
       " 'LM04': {3: array([[-0.35249814,  0.5895377 , -0.66634582],\n",
       "         [ 0.32521291, -1.4074326 ,  0.83472463],\n",
       "         [-1.23893676, -0.13928455,  0.54966689],\n",
       "         [ 0.99065481,  0.68066323, -0.7676674 ]]),\n",
       "  1: array([[-0.38437686, -0.06271837, -0.82084786],\n",
       "         [-0.79739786,  0.83418151,  0.07146799],\n",
       "         [ 0.13707849,  0.11063433,  0.2016983 ],\n",
       "         [-0.57891268, -0.52524443,  0.329934  ]]),\n",
       "  5: array([[-1.53341981,  1.04922465,  0.5698391 ],\n",
       "         [-0.63232657,  0.30614386,  0.1820365 ],\n",
       "         [-0.44168687,  0.48363786, -0.02290024],\n",
       "         [ 0.9115286 ,  0.16189369, -0.1818959 ]]),\n",
       "  2: array([[ 0.72770224,  1.12386998,  1.16356675],\n",
       "         [ 1.15305513,  0.36136859, -1.22096704],\n",
       "         [ 0.52472131, -0.9703159 , -0.58245406],\n",
       "         [ 0.62051694,  1.71951811, -1.44501606]]),\n",
       "  4: array([[-0.62435599, -0.58404729,  1.11186882],\n",
       "         [ 1.3928259 ,  0.45811526,  1.94850676],\n",
       "         [-0.7660031 , -0.1861138 ,  0.8726239 ],\n",
       "         [ 0.5886938 ,  1.3347231 , -0.85882485]])},\n",
       " 'HJ02': {3: array([[-1.48598199, -1.45692286,  1.90019572],\n",
       "         [-1.31145154, -0.11440697, -1.83359649],\n",
       "         [ 1.27752558,  0.3734068 , -0.55602085],\n",
       "         [-1.55311024,  0.93572405,  1.326925  ]]),\n",
       "  1: array([[ 0.55996076,  1.40188671,  2.00716549],\n",
       "         [ 0.39095788,  0.77321955, -0.75044337],\n",
       "         [ 1.00866443, -0.35668001,  0.49793207],\n",
       "         [-0.86711327,  0.40056226, -0.77971829]]),\n",
       "  5: array([[-1.7347265 ,  1.90726086,  0.26651993],\n",
       "         [ 0.85703526, -0.04849984, -1.05552666],\n",
       "         [-0.5676066 , -0.89587758,  0.89477329],\n",
       "         [ 0.10703574, -1.32986214,  1.85436898]]),\n",
       "  2: array([[-1.29806685,  0.03022072, -1.37587918],\n",
       "         [ 0.57163766,  1.03226634,  0.37189735],\n",
       "         [-0.7952975 , -0.34279625,  0.37093617],\n",
       "         [ 0.44633999, -0.44482825,  1.13871228]]),\n",
       "  4: array([[-1.56899284,  1.10091972, -1.04331003],\n",
       "         [-1.20840134, -0.17228726,  1.34375573],\n",
       "         [ 0.1379342 , -1.13626238,  0.22276613],\n",
       "         [ 0.42508644,  0.58950312,  0.35705745]])},\n",
       " 'UJ03': {3: array([[ 2.52932469,  1.68744126,  1.94924154],\n",
       "         [ 0.86571286,  0.87198381,  0.18029687],\n",
       "         [ 2.25554749, -1.07055761, -0.48938934],\n",
       "         [ 1.7422904 , -0.10962135,  1.14372104]]),\n",
       "  1: array([[ 2.22818769, -0.50955824,  0.03992623],\n",
       "         [ 0.41742752, -2.01602787, -0.21802683],\n",
       "         [ 0.47037164,  0.74212077,  0.34622762],\n",
       "         [ 0.77117791, -2.02967243, -0.57107898]]),\n",
       "  5: array([[-1.45133283, -1.40125602, -1.99980305],\n",
       "         [ 0.10602695,  0.43662809, -0.22712406],\n",
       "         [ 0.52926951,  0.56603048, -1.72214415],\n",
       "         [-0.67931098,  0.42050995,  0.09543247]]),\n",
       "  2: array([[ 0.39786945,  0.61703221,  0.15183394],\n",
       "         [-0.43560855, -0.35867696,  1.34792642],\n",
       "         [ 1.2627654 , -1.01953818,  1.44585437],\n",
       "         [ 0.89007494,  0.61240892,  0.02416696]]),\n",
       "  4: array([[ 1.58631923, -0.72739628, -0.26158817],\n",
       "         [ 2.56425695,  1.13199062,  0.54568674],\n",
       "         [-0.49778992,  1.4074506 , -0.4162464 ],\n",
       "         [ 1.55625927,  0.60217849,  0.3552943 ]])}}"
      ]
     },
     "execution_count": 34,
     "metadata": {},
     "output_type": "execute_result"
    }
   ],
   "source": [
    "folder = Path('data/data_folder')\n",
    "\n",
    "mydata = {}\n",
    "for file_path in folder.glob('**/*.npy'):\n",
    "    subject = file_path.parents[0].stem\n",
    "    session = int(file_path.stem.replace('session_', ''))\n",
    "    if subject not in mydata:\n",
    "        mydata[subject] = {}\n",
    "    arr = np.load(file_path)\n",
    "    mydata[subject][session] = arr\n",
    "    \n",
    "mydata\n"
   ]
  },
  {
   "cell_type": "code",
   "execution_count": null,
   "metadata": {},
   "outputs": [],
   "source": []
  },
  {
   "cell_type": "code",
   "execution_count": null,
   "metadata": {},
   "outputs": [],
   "source": []
  }
 ],
 "metadata": {
  "kernelspec": {
   "display_name": "Python 3 (ipykernel)",
   "language": "python",
   "name": "python3"
  },
  "language_info": {
   "codemirror_mode": {
    "name": "ipython",
    "version": 3
   },
   "file_extension": ".py",
   "mimetype": "text/x-python",
   "name": "python",
   "nbconvert_exporter": "python",
   "pygments_lexer": "ipython3",
   "version": "3.11.0rc1"
  }
 },
 "nbformat": 4,
 "nbformat_minor": 4
}
