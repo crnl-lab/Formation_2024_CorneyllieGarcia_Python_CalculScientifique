{
 "cells": [
  {
   "cell_type": "markdown",
   "metadata": {},
   "source": [
    "\n",
    "# Manipulation de fichiers\n"
   ]
  },
  {
   "cell_type": "markdown",
   "metadata": {},
   "source": [
    "# open\n",
    "\n",
    "Le mode est donné sous la forme d'une chaîne de caractères. Voici les principaux modes :\n",
    "\n",
    "    'r' : ouverture en lecture (Read).\n",
    "\n",
    "    'w' : ouverture en écriture (Write). Le contenu du fichier est écrasé. Si le fichier n'existe pas, il est créé.\n",
    "\n",
    "    'a' : ouverture en écriture en mode ajout (Append). On écrit à la fin du fichier sans écraser l'ancien contenu du fichier. Si le fichier n'existe pas, il est créé.\n",
    "    "
   ]
  },
  {
   "cell_type": "code",
   "execution_count": 1,
   "metadata": {},
   "outputs": [
    {
     "data": {
      "text/plain": [
       "3"
      ]
     },
     "execution_count": 1,
     "metadata": {},
     "output_type": "execute_result"
    }
   ],
   "source": [
    "f = open(\"toto.txt\",mode='w')\n",
    "f.write('yep')"
   ]
  },
  {
   "cell_type": "markdown",
   "metadata": {},
   "source": [
    "# close\n",
    "\n",
    "Lorsque l'on a fini de manipuler un fichier ouvert, il est normalement necessaire de le fermer, pour liberer les ressources liées à ce fichier"
   ]
  },
  {
   "cell_type": "code",
   "execution_count": 2,
   "metadata": {},
   "outputs": [],
   "source": [
    "f.close()"
   ]
  },
  {
   "cell_type": "markdown",
   "metadata": {},
   "source": [
    "# with"
   ]
  },
  {
   "cell_type": "markdown",
   "metadata": {},
   "source": [
    "La \"vraie\" maniere de faire consiste a utiliser le mot-clé \"with\". Ceci evite d'avoir à fermer explicitement le fichier avec close"
   ]
  },
  {
   "cell_type": "code",
   "execution_count": 3,
   "metadata": {},
   "outputs": [
    {
     "name": "stdout",
     "output_type": "stream",
     "text": [
      "False\n",
      "True\n"
     ]
    }
   ],
   "source": [
    "with open(\"toto.txt\",'r') as f:  # le fichier existe à l'avance sinon error\n",
    "    print(f.closed) ## closed (et pas 'close') est un marqueur booleen indiquant si le fichier est ouvert ou fermé\n",
    "print(f.closed)\n"
   ]
  },
  {
   "cell_type": "markdown",
   "metadata": {},
   "source": [
    "# read"
   ]
  },
  {
   "cell_type": "code",
   "execution_count": 4,
   "metadata": {},
   "outputs": [
    {
     "name": "stdout",
     "output_type": "stream",
     "text": [
      "val :  yep\n"
     ]
    }
   ],
   "source": [
    "### je veux voir le contenu de mon fichier\n",
    "with open(\"toto.txt\",'r') as f:\n",
    "    val = f.read() \n",
    "print('val : ', val)"
   ]
  },
  {
   "cell_type": "markdown",
   "metadata": {},
   "source": [
    "tout le contenu du fichier est lu d'un coup"
   ]
  },
  {
   "cell_type": "markdown",
   "metadata": {},
   "source": [
    "# readlines"
   ]
  },
  {
   "cell_type": "code",
   "execution_count": 5,
   "metadata": {},
   "outputs": [],
   "source": [
    "# let write a multi line\n",
    "txt = \"\"\"yep\n",
    "yop\n",
    "yip\n",
    "\"\"\"\n",
    "with open(\"toto2.txt\",'w') as f:\n",
    "    f.write(txt)"
   ]
  },
  {
   "cell_type": "code",
   "execution_count": 6,
   "metadata": {},
   "outputs": [
    {
     "name": "stdout",
     "output_type": "stream",
     "text": [
      "['yep\\n', 'yop\\n', 'yip\\n']\n"
     ]
    }
   ],
   "source": [
    "### je veux voir le contenu de mon fichier ligne par ligne\n",
    "f = open(\"toto2.txt\",'r')\n",
    "lines = f.readlines()\n",
    "f.close()\n",
    "print(lines)"
   ]
  },
  {
   "cell_type": "markdown",
   "metadata": {},
   "source": [
    "# Lecture string/bytes et importance de l'encoding (UTF-8)\n"
   ]
  },
  {
   "cell_type": "code",
   "execution_count": 12,
   "metadata": {},
   "outputs": [
    {
     "name": "stdout",
     "output_type": "stream",
     "text": [
      "b\"Ceci est une chaine d'octets\"\n",
      "<class 'bytes'>\n",
      "115\n",
      "Ceci est une chaine de caractères particuliers 你好 صباح الخير\n",
      "<class 'str'>\n",
      "ي\n"
     ]
    }
   ],
   "source": [
    "chaine1 = b\"Ceci est une chaine d'octets\"\n",
    "\n",
    "print(chaine1)\n",
    "print(type(chaine1))\n",
    "print(chaine1[-1])\n",
    "\n",
    "chaine2 = \"Ceci est une chaine de caractères particuliers 你好 صباح الخير\"\n",
    "\n",
    "print(chaine2)\n",
    "print(type(chaine2))\n",
    "print(chaine2[-2])\n"
   ]
  },
  {
   "cell_type": "code",
   "execution_count": 13,
   "metadata": {},
   "outputs": [],
   "source": [
    "# lets put this 2 object in the same file\n",
    "with open(\"chaine.txt\",'wb') as f:\n",
    "    f.write(chaine1)\n",
    "\n",
    "with open(\"chaine.txt\",'a') as f:\n",
    "    f.write('\\n')\n",
    "    f.write(chaine2)"
   ]
  },
  {
   "cell_type": "code",
   "execution_count": 14,
   "metadata": {},
   "outputs": [
    {
     "name": "stdout",
     "output_type": "stream",
     "text": [
      "Ceci est une chaine d'octets\n",
      "Ceci est une chaine de caractères particuliers 你好 صباح الخير <class 'str'> 89\n"
     ]
    }
   ],
   "source": [
    "with open('chaine.txt', mode= 'r', encoding='utf8') as f:\n",
    "    txt = f.read()\n",
    "print(txt, type(txt), len(txt))"
   ]
  },
  {
   "cell_type": "code",
   "execution_count": 15,
   "metadata": {},
   "outputs": [
    {
     "name": "stdout",
     "output_type": "stream",
     "text": [
      "b\"Ceci est une chaine d'octets\\nCeci est une chaine de caract\\xc3\\xa8res particuliers \\xe4\\xbd\\xa0\\xe5\\xa5\\xbd \\xd8\\xb5\\xd8\\xa8\\xd8\\xa7\\xd8\\xad \\xd8\\xa7\\xd9\\x84\\xd8\\xae\\xd9\\x8a\\xd8\\xb1\" <class 'bytes'> 103\n"
     ]
    }
   ],
   "source": [
    "with open('chaine.txt', mode='rb') as f:\n",
    "    b = f.read()\n",
    "print(b, type(b), len(b))"
   ]
  },
  {
   "cell_type": "code",
   "execution_count": 16,
   "metadata": {},
   "outputs": [
    {
     "name": "stdout",
     "output_type": "stream",
     "text": [
      "Ceci est une chaine d'octets\n",
      "Ceci est une chaine de caractères particuliers 你好 صباح الخير <class 'str'>\n"
     ]
    }
   ],
   "source": [
    "txt2 = b.decode('utf8')\n",
    "print(txt2, type(txt2))"
   ]
  },
  {
   "cell_type": "markdown",
   "metadata": {},
   "source": [
    "# Sauvegarde et lecture avec numpy : format texte\n"
   ]
  },
  {
   "cell_type": "markdown",
   "metadata": {},
   "source": [
    "## loadtxt "
   ]
  },
  {
   "cell_type": "code",
   "execution_count": 18,
   "metadata": {},
   "outputs": [
    {
     "name": "stdout",
     "output_type": "stream",
     "text": [
      "[[-12.  56.   4.]\n",
      " [  6.  50.  12.]\n",
      " [  8.  36.   2.]\n",
      " [ 24.  24. -18.]\n",
      " [-12.  22.  28.]\n",
      " [-12.  22.  26.]\n",
      " [-32.  20. -18.]\n",
      " [-28.  16.  32.]\n",
      " [-48.  14.   8.]\n",
      " [-10.  10.  44.]\n",
      " [-34.   8.  38.]\n",
      " [  4.   6.  50.]\n",
      " [  4.   6.  50.]\n",
      " [ 10.   4.  74.]\n",
      " [ -2.   4.  44.]\n",
      " [ 24.   4. -10.]\n",
      " [ 24.   4. -16.]\n",
      " [ 40.   2.  62.]\n",
      " [-54.   2.  38.]\n",
      " [-26.  -4.  70.]]\n"
     ]
    }
   ],
   "source": [
    "import numpy as np\n",
    "\n",
    "data = np.loadtxt('./data/Coords.txt') \n",
    "print (data)\n"
   ]
  },
  {
   "cell_type": "markdown",
   "metadata": {},
   "source": [
    "## savetxt"
   ]
  },
  {
   "cell_type": "code",
   "execution_count": 19,
   "metadata": {},
   "outputs": [
    {
     "name": "stdout",
     "output_type": "stream",
     "text": [
      "[[0. 0. 0. ... 0. 0. 0.]\n",
      " [0. 0. 0. ... 0. 0. 0.]\n",
      " [0. 0. 0. ... 0. 0. 0.]\n",
      " ...\n",
      " [0. 0. 0. ... 0. 0. 0.]\n",
      " [0. 0. 0. ... 0. 0. 0.]\n",
      " [0. 0. 0. ... 0. 0. 0.]]\n"
     ]
    }
   ],
   "source": [
    "data = np.zeros(shape = (1000,1000), dtype = \"float32\")\n",
    "print(data)"
   ]
  },
  {
   "cell_type": "code",
   "execution_count": 20,
   "metadata": {
    "tags": []
   },
   "outputs": [],
   "source": [
    "np.savetxt(\"data.txt\", data, fmt = \"%f\")"
   ]
  },
  {
   "cell_type": "markdown",
   "metadata": {},
   "source": [
    "# Sauvegarde et lecture avec numpy : format .npy, load et save"
   ]
  },
  {
   "cell_type": "code",
   "execution_count": 23,
   "metadata": {},
   "outputs": [],
   "source": [
    "np.save(\"data.npy\", data)"
   ]
  },
  {
   "cell_type": "code",
   "execution_count": 24,
   "metadata": {},
   "outputs": [
    {
     "data": {
      "text/plain": [
       "array([[0., 0., 0., ..., 0., 0., 0.],\n",
       "       [0., 0., 0., ..., 0., 0., 0.],\n",
       "       [0., 0., 0., ..., 0., 0., 0.],\n",
       "       ...,\n",
       "       [0., 0., 0., ..., 0., 0., 0.],\n",
       "       [0., 0., 0., ..., 0., 0., 0.],\n",
       "       [0., 0., 0., ..., 0., 0., 0.]], dtype=float32)"
      ]
     },
     "execution_count": 24,
     "metadata": {},
     "output_type": "execute_result"
    }
   ],
   "source": [
    "data2 = np.load(\"data.npy\")\n",
    "data2"
   ]
  },
  {
   "cell_type": "markdown",
   "metadata": {},
   "source": [
    "# Concept d'Arborescence"
   ]
  },
  {
   "cell_type": "markdown",
   "metadata": {},
   "source": [
    "![Image](./img/mac_tree.png)     ![Image](./img/win_tree.jpg)    ![Image](./img/linux-tree.png)"
   ]
  },
  {
   "cell_type": "markdown",
   "metadata": {},
   "source": [
    "Racine :\n",
    "\n",
    "    mac et linux : /\n",
    "    \n",
    "    windows : C:\\\n",
    "            \n"
   ]
  },
  {
   "cell_type": "markdown",
   "metadata": {},
   "source": [
    "Chemin absolu :\n",
    "    \n",
    "    linux : /home/alex/projets/formation_python/\n",
    "    \n",
    "    windows : C:\\\\Users\\\\alex\\\\projets\\\\formation_python\\\\   (double\\ car caractère d'échapement)\n",
    "    \n",
    "    mac : /Disque dur/Users/alex/projets/formation_python/"
   ]
  },
  {
   "cell_type": "markdown",
   "metadata": {},
   "source": [
    "Chemin relatif :\n",
    "\n",
    "    ./          là ou je suis actuellement\n",
    "    ../       je remonte d'un dossier par rapport à là ou je suis\n",
    "    \n",
    "    idem windows mais avec \\\n",
    "    \n",
    "    \n",
    "    exemple : np.loadtxt('./data/Coords.txt') \n",
    "    \n",
    "    "
   ]
  },
  {
   "cell_type": "markdown",
   "metadata": {},
   "source": [
    "## Le module os (Operating System)\n",
    "\n",
    "\n",
    "\n",
    "### 1 - Prendre de l'information sur le sysème de fichiers\n",
    "\n",
    "+ import os\n",
    "\n",
    "\n",
    "+ os.uname() : infos système\n",
    "\n",
    "\n",
    "+ os.getcwd() : pour obtenir le répertoire en cours\n",
    "\n",
    "\n",
    "+ os.path.abspath(path) : retourne une version absolue du chemin path\n",
    "\n",
    "\n",
    "+ os.path.relpath(path[, start]) : retourne une version relative du chemin path. Par défaut, par rapport au working dir, sinon : spécifier un argument start qui sera le répertoire de base\n",
    "\n",
    "\n",
    "### 2 - Faire des actions sur le système de fichiers\n",
    "\n",
    "+ os.chdir(foldername)  : va dans le répertoire spécifié\n",
    "\n",
    "\n",
    "+ os.mkdir(’mydir’) : crée le répertoire mydir\n",
    "\n",
    "\n",
    "+ os.rename(oldname, newname) : renomme oldname en newname\n",
    "\n",
    "\n",
    "+ os.remove(filename) : efface le fichier filename\n",
    "\n",
    "\n",
    "### 3 - Utilitaires\n",
    "\n",
    "+ os.path.join(morceau1, morceau2) : colle deux morceaux de chemin ensemble  en utilisant les caractères adaptés au système\n",
    "\n",
    "\n",
    "+ os.path.expanduser(\"~\") : retourne le chemin vers le répertoire \"Home\" de l'utilisateur sur la machine\n",
    "\n",
    "\n",
    "+ os.path.split(racine/nomfichier_ou_rep) : permet de séparer la dernière branche de la racine, résultat sous forme de tuple\n",
    "    *ex : (filepath, filename) = os.path.split(\"/Users/admin/Desktop\") \n",
    "    *filename: \"Desktop\"\n",
    "\n",
    "\n",
    "+ os.path.splitext(nomfichier.extension) : sépare le nom de l'extension. Résultat sous forme de tuple\n",
    "\n",
    "\n",
    "+ os.listdir(path) :  prend un nom de chemin et retourne une liste du contenu du répertoire.\n",
    "\n",
    "\n",
    "+ os.path.isfile : pour séparer les fichiers des répertoires. (os.path.isdir existe aussi). isfile prend un nom de chemin et :\n",
    "     *retourne 1 / True si le chemin représente un fichier\n",
    "     *0 / False dans le cas contraire. \n",
    "\n",
    "\n",
    "+ os.walk(top, topdown=True) : à parir de top (repertoire racine), parcourt l'arborescence en descendant si topdown=True, en montant sinon, et renvoie un tuple : (dirpath, dirnames, filenames) qui contient tous les répertoires dirnames rencontrés avec les fichiers filenames qui s'y trouvent\n",
    "\n",
    ">for dossier, sous_dossiers, fichiers in os.walk('/tmp/test'):\n",
    "\n",
    ">        for fichier in fichiers:\n",
    "\n",
    ">            print(os.path.join(dossier, fichier))"
   ]
  },
  {
   "cell_type": "code",
   "execution_count": 25,
   "metadata": {},
   "outputs": [
    {
     "data": {
      "text/plain": [
       "['exercice_eeg.ipynb',\n",
       " 'toto2.txt',\n",
       " 'data.npy',\n",
       " 'data.txt',\n",
       " 'numpy_indexing.ipynb',\n",
       " 'toto.txt',\n",
       " 'loop_index_slice.ipynb',\n",
       " 'img',\n",
       " 'mafigure.svg',\n",
       " 'chaine.txt',\n",
       " 'data',\n",
       " 'file_manipulation.ipynb',\n",
       " 'numpy_base.ipynb',\n",
       " 'matplotlib_base.ipynb',\n",
       " 'Base_language.ipynb',\n",
       " 'numpy_advanced.ipynb',\n",
       " 'eeg_MNE.ipynb']"
      ]
     },
     "execution_count": 25,
     "metadata": {},
     "output_type": "execute_result"
    }
   ],
   "source": [
    "import os\n",
    "os.listdir('./')"
   ]
  },
  {
   "cell_type": "markdown",
   "metadata": {},
   "source": [
    "## Le module pathlib = nouvelle méthode"
   ]
  },
  {
   "cell_type": "code",
   "execution_count": 26,
   "metadata": {},
   "outputs": [
    {
     "data": {
      "text/plain": [
       "PosixPath('/home/samuel')"
      ]
     },
     "execution_count": 26,
     "metadata": {},
     "output_type": "execute_result"
    }
   ],
   "source": [
    "from pathlib import Path\n",
    "\n",
    "home = Path.home()\n",
    "home\n"
   ]
  },
  {
   "cell_type": "code",
   "execution_count": 27,
   "metadata": {},
   "outputs": [
    {
     "data": {
      "text/plain": [
       "PosixPath('/home/samuel/Documents/Formation_2024_CorneyllieGarcia_Python_CalculScientifique/notebooks')"
      ]
     },
     "execution_count": 27,
     "metadata": {},
     "output_type": "execute_result"
    }
   ],
   "source": [
    "ici = Path('.').absolute()\n",
    "ici"
   ]
  },
  {
   "cell_type": "code",
   "execution_count": 28,
   "metadata": {},
   "outputs": [
    {
     "data": {
      "text/plain": [
       "PosixPath('/home/samuel/Documents')"
      ]
     },
     "execution_count": 28,
     "metadata": {},
     "output_type": "execute_result"
    }
   ],
   "source": [
    "doc = home / 'Documents'\n",
    "doc"
   ]
  },
  {
   "cell_type": "code",
   "execution_count": 29,
   "metadata": {},
   "outputs": [
    {
     "name": "stdout",
     "output_type": "stream",
     "text": [
      "/snap\n",
      "/home\n",
      "/lib64\n",
      "/var\n",
      "/proc\n",
      "/dev\n",
      "/boot\n",
      "/etc\n",
      "/lib\n",
      "/root\n",
      "/usr\n",
      "/bin\n",
      "/media\n",
      "/lib32\n",
      "/srv\n",
      "/opt\n",
      "/lost+found\n",
      "/tmp\n",
      "/libx32\n",
      "/sbin\n",
      "/mnt\n",
      "/sys\n",
      "/run\n"
     ]
    }
   ],
   "source": [
    "for item in Path('/').iterdir():\n",
    "    print(item)"
   ]
  },
  {
   "cell_type": "code",
   "execution_count": 30,
   "metadata": {},
   "outputs": [
    {
     "name": "stdout",
     "output_type": "stream",
     "text": [
      "False\n",
      "Figure_1\n",
      ".png\n",
      "/home/samuel\n",
      "/home/samuel\n",
      "/home\n",
      "/\n"
     ]
    }
   ],
   "source": [
    "file_path = Path('/home/samuel/Figure_1.png')\n",
    "\n",
    "print(file_path.is_file())\n",
    "\n",
    "print(file_path.stem)\n",
    "print(file_path.suffix)\n",
    "print(file_path.parent)\n",
    "print(file_path.parents[0])\n",
    "print(file_path.parents[1])\n",
    "print(file_path.parents[2])\n",
    "\n"
   ]
  },
  {
   "cell_type": "code",
   "execution_count": 31,
   "metadata": {},
   "outputs": [
    {
     "name": "stdout",
     "output_type": "stream",
     "text": [
      "/home/samuel/Documents/Formation_2024_CorneyllieGarcia_Python_CalculScientifique/notebooks/exercice_eeg.ipynb\n",
      "/home/samuel/Documents/Formation_2024_CorneyllieGarcia_Python_CalculScientifique/notebooks/numpy_indexing.ipynb\n",
      "/home/samuel/Documents/Formation_2024_CorneyllieGarcia_Python_CalculScientifique/notebooks/loop_index_slice.ipynb\n",
      "/home/samuel/Documents/Formation_2024_CorneyllieGarcia_Python_CalculScientifique/notebooks/file_manipulation.ipynb\n",
      "/home/samuel/Documents/Formation_2024_CorneyllieGarcia_Python_CalculScientifique/notebooks/numpy_base.ipynb\n",
      "/home/samuel/Documents/Formation_2024_CorneyllieGarcia_Python_CalculScientifique/notebooks/matplotlib_base.ipynb\n",
      "/home/samuel/Documents/Formation_2024_CorneyllieGarcia_Python_CalculScientifique/notebooks/Base_language.ipynb\n",
      "/home/samuel/Documents/Formation_2024_CorneyllieGarcia_Python_CalculScientifique/notebooks/numpy_advanced.ipynb\n",
      "/home/samuel/Documents/Formation_2024_CorneyllieGarcia_Python_CalculScientifique/notebooks/eeg_MNE.ipynb\n"
     ]
    }
   ],
   "source": [
    "ici = Path('.').absolute()\n",
    "\n",
    "for file in ici.glob('*.ipynb'):\n",
    "    print(file)"
   ]
  },
  {
   "cell_type": "code",
   "execution_count": 33,
   "metadata": {},
   "outputs": [
    {
     "name": "stdout",
     "output_type": "stream",
     "text": [
      "/home/samuel/Documents/Formation_2023_GarciaCorneyllie_Python_CalculScientifique/notebooks/exercice_eeg.ipynb\n",
      "/home/samuel/Documents/Formation_2023_GarciaCorneyllie_Python_CalculScientifique/notebooks/exo_final.ipynb\n",
      "/home/samuel/Documents/Formation_2023_GarciaCorneyllie_Python_CalculScientifique/notebooks/pandas_exo.ipynb\n",
      "/home/samuel/Documents/Formation_2023_GarciaCorneyllie_Python_CalculScientifique/notebooks/numpy_indexing.ipynb\n",
      "/home/samuel/Documents/Formation_2023_GarciaCorneyllie_Python_CalculScientifique/notebooks/loop_index_slice.ipynb\n",
      "/home/samuel/Documents/Formation_2023_GarciaCorneyllie_Python_CalculScientifique/notebooks/xarray.ipynb\n",
      "/home/samuel/Documents/Formation_2023_GarciaCorneyllie_Python_CalculScientifique/notebooks/pandas_base.ipynb\n",
      "/home/samuel/Documents/Formation_2023_GarciaCorneyllie_Python_CalculScientifique/notebooks/seaborn.ipynb\n",
      "/home/samuel/Documents/Formation_2023_GarciaCorneyllie_Python_CalculScientifique/notebooks/python-neo.ipynb\n",
      "/home/samuel/Documents/Formation_2023_GarciaCorneyllie_Python_CalculScientifique/notebooks/sklearn.ipynb\n",
      "/home/samuel/Documents/Formation_2023_GarciaCorneyllie_Python_CalculScientifique/notebooks/ephyviewer.ipynb\n",
      "/home/samuel/Documents/Formation_2023_GarciaCorneyllie_Python_CalculScientifique/notebooks/file_manipulation.ipynb\n",
      "/home/samuel/Documents/Formation_2023_GarciaCorneyllie_Python_CalculScientifique/notebooks/scipy_overview.ipynb\n",
      "/home/samuel/Documents/Formation_2023_GarciaCorneyllie_Python_CalculScientifique/notebooks/formula_statsmodels.ipynb\n",
      "/home/samuel/Documents/Formation_2023_GarciaCorneyllie_Python_CalculScientifique/notebooks/numpy_base.ipynb\n",
      "/home/samuel/Documents/Formation_2023_GarciaCorneyllie_Python_CalculScientifique/notebooks/matplotlib_base.ipynb\n",
      "/home/samuel/Documents/Formation_2023_GarciaCorneyllie_Python_CalculScientifique/notebooks/Base_language.ipynb\n",
      "/home/samuel/Documents/Formation_2023_GarciaCorneyllie_Python_CalculScientifique/notebooks/numpy_advanced.ipynb\n",
      "/home/samuel/Documents/Formation_2024_CorneyllieGarcia_Python_CalculScientifique/notebooks/exercice_eeg.ipynb\n",
      "/home/samuel/Documents/Formation_2024_CorneyllieGarcia_Python_CalculScientifique/notebooks/numpy_indexing.ipynb\n",
      "/home/samuel/Documents/Formation_2024_CorneyllieGarcia_Python_CalculScientifique/notebooks/loop_index_slice.ipynb\n",
      "/home/samuel/Documents/Formation_2024_CorneyllieGarcia_Python_CalculScientifique/notebooks/file_manipulation.ipynb\n",
      "/home/samuel/Documents/Formation_2024_CorneyllieGarcia_Python_CalculScientifique/notebooks/numpy_base.ipynb\n",
      "/home/samuel/Documents/Formation_2024_CorneyllieGarcia_Python_CalculScientifique/notebooks/matplotlib_base.ipynb\n",
      "/home/samuel/Documents/Formation_2024_CorneyllieGarcia_Python_CalculScientifique/notebooks/Base_language.ipynb\n",
      "/home/samuel/Documents/Formation_2024_CorneyllieGarcia_Python_CalculScientifique/notebooks/numpy_advanced.ipynb\n",
      "/home/samuel/Documents/Formation_2024_CorneyllieGarcia_Python_CalculScientifique/notebooks/eeg_MNE.ipynb\n",
      "/home/samuel/Documents/SpikeInterface/spikeinterface/waveform_extraction_share.ipynb\n",
      "/home/samuel/Documents/SpikeInterface/spikeinterface/dev_kilosort4.ipynb\n",
      "/home/samuel/Documents/SpikeInterface/spikeinterface/dev_move_templates3.ipynb\n",
      "/home/samuel/Documents/SpikeInterface/spikeinterface/dev_move_templates7.ipynb\n",
      "/home/samuel/Documents/SpikeInterface/spikeinterface/demo_generate_drift.ipynb\n",
      "/home/samuel/Documents/SpikeInterface/spikeinterface/dev_move_templates4.ipynb\n",
      "/home/samuel/Documents/SpikeInterface/spikeinterface/dev_move_templates5.ipynb\n",
      "/home/samuel/Documents/SpikeInterface/spikeinterface/dev_move_templates6.ipynb\n",
      "/home/samuel/Documents/SpikeInterface/spikeinterface/dev_move_templates.ipynb\n",
      "/home/samuel/Documents/SpikeInterface/spikeinterface/dev_move_templates2.ipynb\n",
      "/home/samuel/Documents/SpikeInterface/spikeinterface/.ipynb_checkpoints/dev_move_templates7-checkpoint.ipynb\n",
      "/home/samuel/Documents/SpikeInterface/spikeinterface/.ipynb_checkpoints/dev_move_templates6-checkpoint.ipynb\n",
      "/home/samuel/Documents/SpikeInterface/spikeinterface/.ipynb_checkpoints/demo_generate_drift-checkpoint.ipynb\n",
      "/home/samuel/Documents/SpikeInterface/MEArec/notebooks/generate_recordings_with_varying_bursting_modulation.ipynb\n",
      "/home/samuel/Documents/SpikeInterface/MEArec/notebooks/generate_templates_and_recordings_on_multiple_probes.ipynb\n",
      "/home/samuel/Documents/SpikeInterface/MEArec/notebooks/generate_recordings_with_allen_models.ipynb\n",
      "/home/samuel/Documents/SpikeInterface/MEArec/notebooks/generate_neuropixels_templates_and_recordings.ipynb\n",
      "/home/samuel/Documents/SpikeInterface/MEArec/notebooks/generate_recordings_with_user_defined_spiketrains.ipynb\n",
      "/home/samuel/Documents/SpikeInterface/MEArec/notebooks/generate_templates_and_recordings_drift.ipynb\n",
      "/home/samuel/Documents/SpikeInterface/MEArec/notebooks/generate_templates_and_recordings.ipynb\n",
      "/home/samuel/Documents/SpikeInterface/MEArec/notebooks/generate_varying_noise_levels.ipynb\n",
      "/home/samuel/Documents/SpikeInterface/MEArec/notebooks/generate_templates_and_recordings_int16.ipynb\n",
      "/home/samuel/Documents/SpikeInterface/draft_sorting_components/initial_draft/dev_benchmark_motion_estimation.ipynb\n",
      "/home/samuel/Documents/SpikeInterface/draft_sorting_components/initial_draft/clustering_benchmark.ipynb\n",
      "/home/samuel/Documents/SpikeInterface/draft_sorting_components/initial_draft/dev_benchmark_motion_interpolation.ipynb\n",
      "/home/samuel/Documents/SpikeInterface/draft_sorting_components/initial_draft/unit_localization_benchmark.ipynb\n",
      "/home/samuel/Documents/SpikeInterface/draft_sorting_components/initial_draft/peak_localization_benchmark.ipynb\n",
      "/home/samuel/Documents/SpikeInterface/draft_sorting_components/initial_draft/matching_benchmark.ipynb\n",
      "/home/samuel/Documents/SpikeInterface/school_spike_sorting_WIRED_2024/notebook_demo/demo_simulated_dataset.ipynb\n",
      "/home/samuel/Documents/SpikeInterface/school_spike_sorting_WIRED_2024/notebook_demo/adtech_sub-002.ipynb\n",
      "/home/samuel/Documents/SpikeInterface/school_spike_sorting_WIRED_2024/notebook_demo/dixi_sub-003.ipynb\n",
      "/home/samuel/Documents/SpikeInterface/school_spike_sorting_WIRED_2024/notebook_demo/dixi_sub-004.ipynb\n",
      "/home/samuel/Documents/SpikeInterface/school_spike_sorting_WIRED_2024/notebook_demo/noise_measurement.ipynb\n",
      "/home/samuel/Documents/SpikeInterface/school_spike_sorting_WIRED_2024/notebook_demo/adtech_sub-001.ipynb\n",
      "/home/samuel/Documents/SpikeInterface/school_spike_sorting_WIRED_2024/notebook_demo/.ipynb_checkpoints/noise_measurement-checkpoint.ipynb\n",
      "/home/samuel/Documents/SpikeInterface/school_spike_sorting_WIRED_2024/notebook_demo/.ipynb_checkpoints/demo_simulated_dataset-checkpoint.ipynb\n",
      "/home/samuel/Documents/SpikeInterface/school_spike_sorting_WIRED_2024/notebook_demo/.ipynb_checkpoints/adtech_sub-001-checkpoint.ipynb\n",
      "/home/samuel/Documents/SpikeInterface/school_spike_sorting_WIRED_2024/notebook_demo/.ipynb_checkpoints/dixi_sub-004_OLD_Pierre-checkpoint.ipynb\n",
      "/home/samuel/Documents/SpikeInterface/school_spike_sorting_WIRED_2024/notebook_demo/.ipynb_checkpoints/dixi_sub-003-checkpoint.ipynb\n",
      "/home/samuel/Documents/SpikeInterface/school_spike_sorting_WIRED_2024/notebook_demo/.ipynb_checkpoints/adtech_sub-002_OLD_Pierre-checkpoint.ipynb\n",
      "/home/samuel/Documents/SpikeInterface/school_spike_sorting_WIRED_2024/notebook_demo/.ipynb_checkpoints/dixi_sub-004-checkpoint.ipynb\n",
      "/home/samuel/Documents/SpikeInterface/school_spike_sorting_WIRED_2024/notebook_demo/.ipynb_checkpoints/dixi_sub-003_OLD_Pierre-checkpoint.ipynb\n",
      "/home/samuel/Documents/SpikeInterface/school_spike_sorting_WIRED_2024/notebook_demo/.ipynb_checkpoints/adtech_sub-002-checkpoint.ipynb\n",
      "/home/samuel/Documents/SpikeInterface/Kilosort4/docs/tutorials/make_probe.ipynb\n",
      "/home/samuel/Documents/SpikeInterface/Kilosort4/docs/tutorials/load_data.ipynb\n",
      "/home/samuel/Documents/SpikeInterface/Kilosort4/docs/tutorials/basic_example.ipynb\n",
      "/home/samuel/Documents/SpikeInterface/tridesclous2_dev/notebooks/study_sorter_battle.ipynb\n",
      "/home/samuel/Documents/SpikeInterface/tridesclous2_dev/notebooks/.ipynb_checkpoints/study_sorter_battle-checkpoint.ipynb\n"
     ]
    }
   ],
   "source": [
    "# recursif\n",
    "for file in Path('/home/samuel/Documents').glob('**/*.ipynb'):\n",
    "    print(file)\n"
   ]
  },
  {
   "cell_type": "markdown",
   "metadata": {},
   "source": [
    "## exercice 1\n",
    "\n",
    "Faire un script pour explorer le dossier 'data/data_folder'\n",
    "\n",
    "Lire les datas dans une structure hierachique adaptée (dict/list/array)\n",
    "\n"
   ]
  },
  {
   "cell_type": "markdown",
   "metadata": {},
   "source": [
    "## solution 1"
   ]
  },
  {
   "cell_type": "code",
   "execution_count": null,
   "metadata": {},
   "outputs": [],
   "source": []
  },
  {
   "cell_type": "code",
   "execution_count": null,
   "metadata": {},
   "outputs": [],
   "source": []
  },
  {
   "cell_type": "code",
   "execution_count": null,
   "metadata": {},
   "outputs": [],
   "source": []
  }
 ],
 "metadata": {
  "kernelspec": {
   "display_name": "Python 3 (ipykernel)",
   "language": "python",
   "name": "python3"
  },
  "language_info": {
   "codemirror_mode": {
    "name": "ipython",
    "version": 3
   },
   "file_extension": ".py",
   "mimetype": "text/x-python",
   "name": "python",
   "nbconvert_exporter": "python",
   "pygments_lexer": "ipython3",
   "version": "3.11.0rc1"
  }
 },
 "nbformat": 4,
 "nbformat_minor": 4
}
